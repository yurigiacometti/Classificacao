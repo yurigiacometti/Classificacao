{
  "nbformat": 4,
  "nbformat_minor": 0,
  "metadata": {
    "colab": {
      "name": "ass_18.ipynb",
      "provenance": []
    },
    "kernelspec": {
      "name": "python3",
      "display_name": "Python 3"
    },
    "language_info": {
      "name": "python"
    }
  },
  "cells": [
    {
      "cell_type": "code",
      "metadata": {
        "id": "3hF6JYV2wxY1"
      },
      "source": [
        "import pandas as pd\n",
        "import numpy as np\n",
        "import matplotlib.pyplot as plt\n",
        "import seaborn as sns\n",
        "from sklearn.ensemble import RandomForestClassifier #for the model\n",
        "from sklearn.tree import DecisionTreeClassifier\n",
        "from sklearn.tree import export_graphviz #plot tree\n",
        "from sklearn.metrics import roc_curve, auc #for model evaluation\n",
        "from sklearn.metrics import classification_report #for model evaluation\n",
        "from sklearn.metrics import confusion_matrix #for model evaluation\n",
        "from sklearn.model_selection import train_test_split #for data splitting\n",
        "import eli5 #for purmutation importance\n",
        "from eli5.sklearn import PermutationImportance\n",
        "import shap #for SHAP values\n",
        "from pdpbox import pdp, info_plots #for partial plots\n",
        "np.random.seed(123) #ensure reproducibility\n",
        "\n",
        "pd.options.mode.chained_assignment = None  #hide any pandas warnings"
      ],
      "execution_count": 37,
      "outputs": []
    },
    {
      "cell_type": "code",
      "metadata": {
        "colab": {
          "base_uri": "https://localhost:8080/"
        },
        "id": "blOKlNLF1gXY",
        "outputId": "782cd51d-2d9c-4018-f794-0779a688aaba"
      },
      "source": [
        "!pip install eli5"
      ],
      "execution_count": 38,
      "outputs": [
        {
          "output_type": "stream",
          "name": "stdout",
          "text": [
            "Requirement already satisfied: eli5 in /usr/local/lib/python3.7/dist-packages (0.11.0)\n",
            "Requirement already satisfied: numpy>=1.9.0 in /usr/local/lib/python3.7/dist-packages (from eli5) (1.19.5)\n",
            "Requirement already satisfied: scikit-learn>=0.20 in /usr/local/lib/python3.7/dist-packages (from eli5) (1.0.1)\n",
            "Requirement already satisfied: attrs>16.0.0 in /usr/local/lib/python3.7/dist-packages (from eli5) (21.2.0)\n",
            "Requirement already satisfied: tabulate>=0.7.7 in /usr/local/lib/python3.7/dist-packages (from eli5) (0.8.9)\n",
            "Requirement already satisfied: scipy in /usr/local/lib/python3.7/dist-packages (from eli5) (1.4.1)\n",
            "Requirement already satisfied: jinja2 in /usr/local/lib/python3.7/dist-packages (from eli5) (2.11.3)\n",
            "Requirement already satisfied: six in /usr/local/lib/python3.7/dist-packages (from eli5) (1.15.0)\n",
            "Requirement already satisfied: graphviz in /usr/local/lib/python3.7/dist-packages (from eli5) (0.10.1)\n",
            "Requirement already satisfied: joblib>=0.11 in /usr/local/lib/python3.7/dist-packages (from scikit-learn>=0.20->eli5) (1.1.0)\n",
            "Requirement already satisfied: threadpoolctl>=2.0.0 in /usr/local/lib/python3.7/dist-packages (from scikit-learn>=0.20->eli5) (3.0.0)\n",
            "Requirement already satisfied: MarkupSafe>=0.23 in /usr/local/lib/python3.7/dist-packages (from jinja2->eli5) (2.0.1)\n"
          ]
        }
      ]
    },
    {
      "cell_type": "code",
      "metadata": {
        "colab": {
          "base_uri": "https://localhost:8080/"
        },
        "id": "TvSAx6BA1vlN",
        "outputId": "c83e46e8-4070-4f04-aa62-eafbd3bac307"
      },
      "source": [
        "!pip install pdpbox"
      ],
      "execution_count": 39,
      "outputs": [
        {
          "output_type": "stream",
          "name": "stdout",
          "text": [
            "Requirement already satisfied: pdpbox in /usr/local/lib/python3.7/dist-packages (0.2.1)\n",
            "Requirement already satisfied: joblib in /usr/local/lib/python3.7/dist-packages (from pdpbox) (1.1.0)\n",
            "Requirement already satisfied: psutil in /usr/local/lib/python3.7/dist-packages (from pdpbox) (5.4.8)\n",
            "Requirement already satisfied: pandas in /usr/local/lib/python3.7/dist-packages (from pdpbox) (1.1.5)\n",
            "Requirement already satisfied: scipy in /usr/local/lib/python3.7/dist-packages (from pdpbox) (1.4.1)\n",
            "Requirement already satisfied: matplotlib==3.1.1 in /usr/local/lib/python3.7/dist-packages (from pdpbox) (3.1.1)\n",
            "Requirement already satisfied: sklearn in /usr/local/lib/python3.7/dist-packages (from pdpbox) (0.0)\n",
            "Requirement already satisfied: numpy in /usr/local/lib/python3.7/dist-packages (from pdpbox) (1.19.5)\n",
            "Requirement already satisfied: cycler>=0.10 in /usr/local/lib/python3.7/dist-packages (from matplotlib==3.1.1->pdpbox) (0.11.0)\n",
            "Requirement already satisfied: python-dateutil>=2.1 in /usr/local/lib/python3.7/dist-packages (from matplotlib==3.1.1->pdpbox) (2.8.2)\n",
            "Requirement already satisfied: pyparsing!=2.0.4,!=2.1.2,!=2.1.6,>=2.0.1 in /usr/local/lib/python3.7/dist-packages (from matplotlib==3.1.1->pdpbox) (2.4.7)\n",
            "Requirement already satisfied: kiwisolver>=1.0.1 in /usr/local/lib/python3.7/dist-packages (from matplotlib==3.1.1->pdpbox) (1.3.2)\n",
            "Requirement already satisfied: six>=1.5 in /usr/local/lib/python3.7/dist-packages (from python-dateutil>=2.1->matplotlib==3.1.1->pdpbox) (1.15.0)\n",
            "Requirement already satisfied: pytz>=2017.2 in /usr/local/lib/python3.7/dist-packages (from pandas->pdpbox) (2018.9)\n",
            "Requirement already satisfied: scikit-learn in /usr/local/lib/python3.7/dist-packages (from sklearn->pdpbox) (1.0.1)\n",
            "Requirement already satisfied: threadpoolctl>=2.0.0 in /usr/local/lib/python3.7/dist-packages (from scikit-learn->sklearn->pdpbox) (3.0.0)\n"
          ]
        }
      ]
    },
    {
      "cell_type": "code",
      "metadata": {
        "colab": {
          "base_uri": "https://localhost:8080/"
        },
        "id": "HGVmlOQV1l92",
        "outputId": "11b6ac7b-e865-4ddd-a2e0-40faf050fdbd"
      },
      "source": [
        "!pip install shap"
      ],
      "execution_count": 40,
      "outputs": [
        {
          "output_type": "stream",
          "name": "stdout",
          "text": [
            "Requirement already satisfied: shap in /usr/local/lib/python3.7/dist-packages (0.40.0)\n",
            "Requirement already satisfied: pandas in /usr/local/lib/python3.7/dist-packages (from shap) (1.1.5)\n",
            "Requirement already satisfied: cloudpickle in /usr/local/lib/python3.7/dist-packages (from shap) (1.3.0)\n",
            "Requirement already satisfied: slicer==0.0.7 in /usr/local/lib/python3.7/dist-packages (from shap) (0.0.7)\n",
            "Requirement already satisfied: numpy in /usr/local/lib/python3.7/dist-packages (from shap) (1.19.5)\n",
            "Requirement already satisfied: scikit-learn in /usr/local/lib/python3.7/dist-packages (from shap) (1.0.1)\n",
            "Requirement already satisfied: scipy in /usr/local/lib/python3.7/dist-packages (from shap) (1.4.1)\n",
            "Requirement already satisfied: numba in /usr/local/lib/python3.7/dist-packages (from shap) (0.51.2)\n",
            "Requirement already satisfied: tqdm>4.25.0 in /usr/local/lib/python3.7/dist-packages (from shap) (4.62.3)\n",
            "Requirement already satisfied: packaging>20.9 in /usr/local/lib/python3.7/dist-packages (from shap) (21.2)\n",
            "Requirement already satisfied: pyparsing<3,>=2.0.2 in /usr/local/lib/python3.7/dist-packages (from packaging>20.9->shap) (2.4.7)\n",
            "Requirement already satisfied: llvmlite<0.35,>=0.34.0.dev0 in /usr/local/lib/python3.7/dist-packages (from numba->shap) (0.34.0)\n",
            "Requirement already satisfied: setuptools in /usr/local/lib/python3.7/dist-packages (from numba->shap) (57.4.0)\n",
            "Requirement already satisfied: pytz>=2017.2 in /usr/local/lib/python3.7/dist-packages (from pandas->shap) (2018.9)\n",
            "Requirement already satisfied: python-dateutil>=2.7.3 in /usr/local/lib/python3.7/dist-packages (from pandas->shap) (2.8.2)\n",
            "Requirement already satisfied: six>=1.5 in /usr/local/lib/python3.7/dist-packages (from python-dateutil>=2.7.3->pandas->shap) (1.15.0)\n",
            "Requirement already satisfied: threadpoolctl>=2.0.0 in /usr/local/lib/python3.7/dist-packages (from scikit-learn->shap) (3.0.0)\n",
            "Requirement already satisfied: joblib>=0.11 in /usr/local/lib/python3.7/dist-packages (from scikit-learn->shap) (1.1.0)\n"
          ]
        }
      ]
    },
    {
      "cell_type": "code",
      "metadata": {
        "colab": {
          "resources": {
            "http://localhost:8080/nbextensions/google.colab/files.js": {
              "data": "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",
              "ok": true,
              "headers": [
                [
                  "content-type",
                  "application/javascript"
                ]
              ],
              "status": 200,
              "status_text": ""
            }
          },
          "base_uri": "https://localhost:8080/",
          "height": 73
        },
        "id": "roEfrjpGw3oH",
        "outputId": "5b11f58b-ad21-4af8-cd14-317eb024a4b2"
      },
      "source": [
        "from google.colab import files\n",
        "uploaded=files.upload()"
      ],
      "execution_count": 41,
      "outputs": [
        {
          "output_type": "display_data",
          "data": {
            "text/html": [
              "\n",
              "     <input type=\"file\" id=\"files-4b59c85e-5e63-4a5e-8e59-32f847fe852a\" name=\"files[]\" multiple disabled\n",
              "        style=\"border:none\" />\n",
              "     <output id=\"result-4b59c85e-5e63-4a5e-8e59-32f847fe852a\">\n",
              "      Upload widget is only available when the cell has been executed in the\n",
              "      current browser session. Please rerun this cell to enable.\n",
              "      </output>\n",
              "      <script src=\"/nbextensions/google.colab/files.js\"></script> "
            ],
            "text/plain": [
              "<IPython.core.display.HTML object>"
            ]
          },
          "metadata": {}
        },
        {
          "output_type": "stream",
          "name": "stdout",
          "text": [
            "Saving heart.csv to heart (1).csv\n"
          ]
        }
      ]
    },
    {
      "cell_type": "code",
      "metadata": {
        "id": "sfr0cSfoxFFR"
      },
      "source": [
        "df=pd.read_csv('heart.csv')"
      ],
      "execution_count": 86,
      "outputs": []
    },
    {
      "cell_type": "code",
      "metadata": {
        "colab": {
          "base_uri": "https://localhost:8080/"
        },
        "id": "NitA6rYowTqt",
        "outputId": "20d9b215-70ca-4547-e199-68aafc2f3a36"
      },
      "source": [
        "df.info()\n"
      ],
      "execution_count": 87,
      "outputs": [
        {
          "output_type": "stream",
          "name": "stdout",
          "text": [
            "<class 'pandas.core.frame.DataFrame'>\n",
            "RangeIndex: 303 entries, 0 to 302\n",
            "Data columns (total 14 columns):\n",
            " #   Column    Non-Null Count  Dtype  \n",
            "---  ------    --------------  -----  \n",
            " 0   age       303 non-null    int64  \n",
            " 1   sex       303 non-null    int64  \n",
            " 2   cp        303 non-null    int64  \n",
            " 3   trestbps  303 non-null    int64  \n",
            " 4   chol      303 non-null    int64  \n",
            " 5   fbs       303 non-null    int64  \n",
            " 6   restecg   303 non-null    int64  \n",
            " 7   thalach   303 non-null    int64  \n",
            " 8   exang     303 non-null    int64  \n",
            " 9   oldpeak   303 non-null    float64\n",
            " 10  slope     303 non-null    int64  \n",
            " 11  ca        303 non-null    int64  \n",
            " 12  thal      303 non-null    int64  \n",
            " 13  target    303 non-null    int64  \n",
            "dtypes: float64(1), int64(13)\n",
            "memory usage: 33.3 KB\n"
          ]
        }
      ]
    },
    {
      "cell_type": "code",
      "metadata": {
        "colab": {
          "base_uri": "https://localhost:8080/",
          "height": 203
        },
        "id": "8P1AG_18xXbE",
        "outputId": "578f8542-98f9-4c2d-b6b1-b37b39b9522d"
      },
      "source": [
        "df.head()"
      ],
      "execution_count": 88,
      "outputs": [
        {
          "output_type": "execute_result",
          "data": {
            "text/html": [
              "<div>\n",
              "<style scoped>\n",
              "    .dataframe tbody tr th:only-of-type {\n",
              "        vertical-align: middle;\n",
              "    }\n",
              "\n",
              "    .dataframe tbody tr th {\n",
              "        vertical-align: top;\n",
              "    }\n",
              "\n",
              "    .dataframe thead th {\n",
              "        text-align: right;\n",
              "    }\n",
              "</style>\n",
              "<table border=\"1\" class=\"dataframe\">\n",
              "  <thead>\n",
              "    <tr style=\"text-align: right;\">\n",
              "      <th></th>\n",
              "      <th>age</th>\n",
              "      <th>sex</th>\n",
              "      <th>cp</th>\n",
              "      <th>trestbps</th>\n",
              "      <th>chol</th>\n",
              "      <th>fbs</th>\n",
              "      <th>restecg</th>\n",
              "      <th>thalach</th>\n",
              "      <th>exang</th>\n",
              "      <th>oldpeak</th>\n",
              "      <th>slope</th>\n",
              "      <th>ca</th>\n",
              "      <th>thal</th>\n",
              "      <th>target</th>\n",
              "    </tr>\n",
              "  </thead>\n",
              "  <tbody>\n",
              "    <tr>\n",
              "      <th>0</th>\n",
              "      <td>63</td>\n",
              "      <td>1</td>\n",
              "      <td>3</td>\n",
              "      <td>145</td>\n",
              "      <td>233</td>\n",
              "      <td>1</td>\n",
              "      <td>0</td>\n",
              "      <td>150</td>\n",
              "      <td>0</td>\n",
              "      <td>2.3</td>\n",
              "      <td>0</td>\n",
              "      <td>0</td>\n",
              "      <td>1</td>\n",
              "      <td>1</td>\n",
              "    </tr>\n",
              "    <tr>\n",
              "      <th>1</th>\n",
              "      <td>37</td>\n",
              "      <td>1</td>\n",
              "      <td>2</td>\n",
              "      <td>130</td>\n",
              "      <td>250</td>\n",
              "      <td>0</td>\n",
              "      <td>1</td>\n",
              "      <td>187</td>\n",
              "      <td>0</td>\n",
              "      <td>3.5</td>\n",
              "      <td>0</td>\n",
              "      <td>0</td>\n",
              "      <td>2</td>\n",
              "      <td>1</td>\n",
              "    </tr>\n",
              "    <tr>\n",
              "      <th>2</th>\n",
              "      <td>41</td>\n",
              "      <td>0</td>\n",
              "      <td>1</td>\n",
              "      <td>130</td>\n",
              "      <td>204</td>\n",
              "      <td>0</td>\n",
              "      <td>0</td>\n",
              "      <td>172</td>\n",
              "      <td>0</td>\n",
              "      <td>1.4</td>\n",
              "      <td>2</td>\n",
              "      <td>0</td>\n",
              "      <td>2</td>\n",
              "      <td>1</td>\n",
              "    </tr>\n",
              "    <tr>\n",
              "      <th>3</th>\n",
              "      <td>56</td>\n",
              "      <td>1</td>\n",
              "      <td>1</td>\n",
              "      <td>120</td>\n",
              "      <td>236</td>\n",
              "      <td>0</td>\n",
              "      <td>1</td>\n",
              "      <td>178</td>\n",
              "      <td>0</td>\n",
              "      <td>0.8</td>\n",
              "      <td>2</td>\n",
              "      <td>0</td>\n",
              "      <td>2</td>\n",
              "      <td>1</td>\n",
              "    </tr>\n",
              "    <tr>\n",
              "      <th>4</th>\n",
              "      <td>57</td>\n",
              "      <td>0</td>\n",
              "      <td>0</td>\n",
              "      <td>120</td>\n",
              "      <td>354</td>\n",
              "      <td>0</td>\n",
              "      <td>1</td>\n",
              "      <td>163</td>\n",
              "      <td>1</td>\n",
              "      <td>0.6</td>\n",
              "      <td>2</td>\n",
              "      <td>0</td>\n",
              "      <td>2</td>\n",
              "      <td>1</td>\n",
              "    </tr>\n",
              "  </tbody>\n",
              "</table>\n",
              "</div>"
            ],
            "text/plain": [
              "   age  sex  cp  trestbps  chol  fbs  ...  exang  oldpeak  slope  ca  thal  target\n",
              "0   63    1   3       145   233    1  ...      0      2.3      0   0     1       1\n",
              "1   37    1   2       130   250    0  ...      0      3.5      0   0     2       1\n",
              "2   41    0   1       130   204    0  ...      0      1.4      2   0     2       1\n",
              "3   56    1   1       120   236    0  ...      0      0.8      2   0     2       1\n",
              "4   57    0   0       120   354    0  ...      1      0.6      2   0     2       1\n",
              "\n",
              "[5 rows x 14 columns]"
            ]
          },
          "metadata": {},
          "execution_count": 88
        }
      ]
    },
    {
      "cell_type": "code",
      "metadata": {
        "colab": {
          "base_uri": "https://localhost:8080/"
        },
        "id": "KLUBFbnlxYZ0",
        "outputId": "e1279e64-3bb4-48bd-babd-619fb78dc441"
      },
      "source": [
        "df.shape"
      ],
      "execution_count": 44,
      "outputs": [
        {
          "output_type": "execute_result",
          "data": {
            "text/plain": [
              "(303, 14)"
            ]
          },
          "metadata": {},
          "execution_count": 44
        }
      ]
    },
    {
      "cell_type": "code",
      "metadata": {
        "colab": {
          "base_uri": "https://localhost:8080/",
          "height": 480
        },
        "id": "YA4OvQ85xBvn",
        "outputId": "2c16c0bc-632b-450b-e5be-a41d8b920011"
      },
      "source": [
        "df.corr()"
      ],
      "execution_count": 89,
      "outputs": [
        {
          "output_type": "execute_result",
          "data": {
            "text/html": [
              "<div>\n",
              "<style scoped>\n",
              "    .dataframe tbody tr th:only-of-type {\n",
              "        vertical-align: middle;\n",
              "    }\n",
              "\n",
              "    .dataframe tbody tr th {\n",
              "        vertical-align: top;\n",
              "    }\n",
              "\n",
              "    .dataframe thead th {\n",
              "        text-align: right;\n",
              "    }\n",
              "</style>\n",
              "<table border=\"1\" class=\"dataframe\">\n",
              "  <thead>\n",
              "    <tr style=\"text-align: right;\">\n",
              "      <th></th>\n",
              "      <th>age</th>\n",
              "      <th>sex</th>\n",
              "      <th>cp</th>\n",
              "      <th>trestbps</th>\n",
              "      <th>chol</th>\n",
              "      <th>fbs</th>\n",
              "      <th>restecg</th>\n",
              "      <th>thalach</th>\n",
              "      <th>exang</th>\n",
              "      <th>oldpeak</th>\n",
              "      <th>slope</th>\n",
              "      <th>ca</th>\n",
              "      <th>thal</th>\n",
              "      <th>target</th>\n",
              "    </tr>\n",
              "  </thead>\n",
              "  <tbody>\n",
              "    <tr>\n",
              "      <th>age</th>\n",
              "      <td>1.000000</td>\n",
              "      <td>-0.098447</td>\n",
              "      <td>-0.068653</td>\n",
              "      <td>0.279351</td>\n",
              "      <td>0.213678</td>\n",
              "      <td>0.121308</td>\n",
              "      <td>-0.116211</td>\n",
              "      <td>-0.398522</td>\n",
              "      <td>0.096801</td>\n",
              "      <td>0.210013</td>\n",
              "      <td>-0.168814</td>\n",
              "      <td>0.276326</td>\n",
              "      <td>0.068001</td>\n",
              "      <td>-0.225439</td>\n",
              "    </tr>\n",
              "    <tr>\n",
              "      <th>sex</th>\n",
              "      <td>-0.098447</td>\n",
              "      <td>1.000000</td>\n",
              "      <td>-0.049353</td>\n",
              "      <td>-0.056769</td>\n",
              "      <td>-0.197912</td>\n",
              "      <td>0.045032</td>\n",
              "      <td>-0.058196</td>\n",
              "      <td>-0.044020</td>\n",
              "      <td>0.141664</td>\n",
              "      <td>0.096093</td>\n",
              "      <td>-0.030711</td>\n",
              "      <td>0.118261</td>\n",
              "      <td>0.210041</td>\n",
              "      <td>-0.280937</td>\n",
              "    </tr>\n",
              "    <tr>\n",
              "      <th>cp</th>\n",
              "      <td>-0.068653</td>\n",
              "      <td>-0.049353</td>\n",
              "      <td>1.000000</td>\n",
              "      <td>0.047608</td>\n",
              "      <td>-0.076904</td>\n",
              "      <td>0.094444</td>\n",
              "      <td>0.044421</td>\n",
              "      <td>0.295762</td>\n",
              "      <td>-0.394280</td>\n",
              "      <td>-0.149230</td>\n",
              "      <td>0.119717</td>\n",
              "      <td>-0.181053</td>\n",
              "      <td>-0.161736</td>\n",
              "      <td>0.433798</td>\n",
              "    </tr>\n",
              "    <tr>\n",
              "      <th>trestbps</th>\n",
              "      <td>0.279351</td>\n",
              "      <td>-0.056769</td>\n",
              "      <td>0.047608</td>\n",
              "      <td>1.000000</td>\n",
              "      <td>0.123174</td>\n",
              "      <td>0.177531</td>\n",
              "      <td>-0.114103</td>\n",
              "      <td>-0.046698</td>\n",
              "      <td>0.067616</td>\n",
              "      <td>0.193216</td>\n",
              "      <td>-0.121475</td>\n",
              "      <td>0.101389</td>\n",
              "      <td>0.062210</td>\n",
              "      <td>-0.144931</td>\n",
              "    </tr>\n",
              "    <tr>\n",
              "      <th>chol</th>\n",
              "      <td>0.213678</td>\n",
              "      <td>-0.197912</td>\n",
              "      <td>-0.076904</td>\n",
              "      <td>0.123174</td>\n",
              "      <td>1.000000</td>\n",
              "      <td>0.013294</td>\n",
              "      <td>-0.151040</td>\n",
              "      <td>-0.009940</td>\n",
              "      <td>0.067023</td>\n",
              "      <td>0.053952</td>\n",
              "      <td>-0.004038</td>\n",
              "      <td>0.070511</td>\n",
              "      <td>0.098803</td>\n",
              "      <td>-0.085239</td>\n",
              "    </tr>\n",
              "    <tr>\n",
              "      <th>fbs</th>\n",
              "      <td>0.121308</td>\n",
              "      <td>0.045032</td>\n",
              "      <td>0.094444</td>\n",
              "      <td>0.177531</td>\n",
              "      <td>0.013294</td>\n",
              "      <td>1.000000</td>\n",
              "      <td>-0.084189</td>\n",
              "      <td>-0.008567</td>\n",
              "      <td>0.025665</td>\n",
              "      <td>0.005747</td>\n",
              "      <td>-0.059894</td>\n",
              "      <td>0.137979</td>\n",
              "      <td>-0.032019</td>\n",
              "      <td>-0.028046</td>\n",
              "    </tr>\n",
              "    <tr>\n",
              "      <th>restecg</th>\n",
              "      <td>-0.116211</td>\n",
              "      <td>-0.058196</td>\n",
              "      <td>0.044421</td>\n",
              "      <td>-0.114103</td>\n",
              "      <td>-0.151040</td>\n",
              "      <td>-0.084189</td>\n",
              "      <td>1.000000</td>\n",
              "      <td>0.044123</td>\n",
              "      <td>-0.070733</td>\n",
              "      <td>-0.058770</td>\n",
              "      <td>0.093045</td>\n",
              "      <td>-0.072042</td>\n",
              "      <td>-0.011981</td>\n",
              "      <td>0.137230</td>\n",
              "    </tr>\n",
              "    <tr>\n",
              "      <th>thalach</th>\n",
              "      <td>-0.398522</td>\n",
              "      <td>-0.044020</td>\n",
              "      <td>0.295762</td>\n",
              "      <td>-0.046698</td>\n",
              "      <td>-0.009940</td>\n",
              "      <td>-0.008567</td>\n",
              "      <td>0.044123</td>\n",
              "      <td>1.000000</td>\n",
              "      <td>-0.378812</td>\n",
              "      <td>-0.344187</td>\n",
              "      <td>0.386784</td>\n",
              "      <td>-0.213177</td>\n",
              "      <td>-0.096439</td>\n",
              "      <td>0.421741</td>\n",
              "    </tr>\n",
              "    <tr>\n",
              "      <th>exang</th>\n",
              "      <td>0.096801</td>\n",
              "      <td>0.141664</td>\n",
              "      <td>-0.394280</td>\n",
              "      <td>0.067616</td>\n",
              "      <td>0.067023</td>\n",
              "      <td>0.025665</td>\n",
              "      <td>-0.070733</td>\n",
              "      <td>-0.378812</td>\n",
              "      <td>1.000000</td>\n",
              "      <td>0.288223</td>\n",
              "      <td>-0.257748</td>\n",
              "      <td>0.115739</td>\n",
              "      <td>0.206754</td>\n",
              "      <td>-0.436757</td>\n",
              "    </tr>\n",
              "    <tr>\n",
              "      <th>oldpeak</th>\n",
              "      <td>0.210013</td>\n",
              "      <td>0.096093</td>\n",
              "      <td>-0.149230</td>\n",
              "      <td>0.193216</td>\n",
              "      <td>0.053952</td>\n",
              "      <td>0.005747</td>\n",
              "      <td>-0.058770</td>\n",
              "      <td>-0.344187</td>\n",
              "      <td>0.288223</td>\n",
              "      <td>1.000000</td>\n",
              "      <td>-0.577537</td>\n",
              "      <td>0.222682</td>\n",
              "      <td>0.210244</td>\n",
              "      <td>-0.430696</td>\n",
              "    </tr>\n",
              "    <tr>\n",
              "      <th>slope</th>\n",
              "      <td>-0.168814</td>\n",
              "      <td>-0.030711</td>\n",
              "      <td>0.119717</td>\n",
              "      <td>-0.121475</td>\n",
              "      <td>-0.004038</td>\n",
              "      <td>-0.059894</td>\n",
              "      <td>0.093045</td>\n",
              "      <td>0.386784</td>\n",
              "      <td>-0.257748</td>\n",
              "      <td>-0.577537</td>\n",
              "      <td>1.000000</td>\n",
              "      <td>-0.080155</td>\n",
              "      <td>-0.104764</td>\n",
              "      <td>0.345877</td>\n",
              "    </tr>\n",
              "    <tr>\n",
              "      <th>ca</th>\n",
              "      <td>0.276326</td>\n",
              "      <td>0.118261</td>\n",
              "      <td>-0.181053</td>\n",
              "      <td>0.101389</td>\n",
              "      <td>0.070511</td>\n",
              "      <td>0.137979</td>\n",
              "      <td>-0.072042</td>\n",
              "      <td>-0.213177</td>\n",
              "      <td>0.115739</td>\n",
              "      <td>0.222682</td>\n",
              "      <td>-0.080155</td>\n",
              "      <td>1.000000</td>\n",
              "      <td>0.151832</td>\n",
              "      <td>-0.391724</td>\n",
              "    </tr>\n",
              "    <tr>\n",
              "      <th>thal</th>\n",
              "      <td>0.068001</td>\n",
              "      <td>0.210041</td>\n",
              "      <td>-0.161736</td>\n",
              "      <td>0.062210</td>\n",
              "      <td>0.098803</td>\n",
              "      <td>-0.032019</td>\n",
              "      <td>-0.011981</td>\n",
              "      <td>-0.096439</td>\n",
              "      <td>0.206754</td>\n",
              "      <td>0.210244</td>\n",
              "      <td>-0.104764</td>\n",
              "      <td>0.151832</td>\n",
              "      <td>1.000000</td>\n",
              "      <td>-0.344029</td>\n",
              "    </tr>\n",
              "    <tr>\n",
              "      <th>target</th>\n",
              "      <td>-0.225439</td>\n",
              "      <td>-0.280937</td>\n",
              "      <td>0.433798</td>\n",
              "      <td>-0.144931</td>\n",
              "      <td>-0.085239</td>\n",
              "      <td>-0.028046</td>\n",
              "      <td>0.137230</td>\n",
              "      <td>0.421741</td>\n",
              "      <td>-0.436757</td>\n",
              "      <td>-0.430696</td>\n",
              "      <td>0.345877</td>\n",
              "      <td>-0.391724</td>\n",
              "      <td>-0.344029</td>\n",
              "      <td>1.000000</td>\n",
              "    </tr>\n",
              "  </tbody>\n",
              "</table>\n",
              "</div>"
            ],
            "text/plain": [
              "               age       sex        cp  ...        ca      thal    target\n",
              "age       1.000000 -0.098447 -0.068653  ...  0.276326  0.068001 -0.225439\n",
              "sex      -0.098447  1.000000 -0.049353  ...  0.118261  0.210041 -0.280937\n",
              "cp       -0.068653 -0.049353  1.000000  ... -0.181053 -0.161736  0.433798\n",
              "trestbps  0.279351 -0.056769  0.047608  ...  0.101389  0.062210 -0.144931\n",
              "chol      0.213678 -0.197912 -0.076904  ...  0.070511  0.098803 -0.085239\n",
              "fbs       0.121308  0.045032  0.094444  ...  0.137979 -0.032019 -0.028046\n",
              "restecg  -0.116211 -0.058196  0.044421  ... -0.072042 -0.011981  0.137230\n",
              "thalach  -0.398522 -0.044020  0.295762  ... -0.213177 -0.096439  0.421741\n",
              "exang     0.096801  0.141664 -0.394280  ...  0.115739  0.206754 -0.436757\n",
              "oldpeak   0.210013  0.096093 -0.149230  ...  0.222682  0.210244 -0.430696\n",
              "slope    -0.168814 -0.030711  0.119717  ... -0.080155 -0.104764  0.345877\n",
              "ca        0.276326  0.118261 -0.181053  ...  1.000000  0.151832 -0.391724\n",
              "thal      0.068001  0.210041 -0.161736  ...  0.151832  1.000000 -0.344029\n",
              "target   -0.225439 -0.280937  0.433798  ... -0.391724 -0.344029  1.000000\n",
              "\n",
              "[14 rows x 14 columns]"
            ]
          },
          "metadata": {},
          "execution_count": 89
        }
      ]
    },
    {
      "cell_type": "code",
      "metadata": {
        "colab": {
          "base_uri": "https://localhost:8080/",
          "height": 295
        },
        "id": "X2xFDrDjxahK",
        "outputId": "168c4776-df45-48f1-ca67-c24eea868fad"
      },
      "source": [
        "df.describe()"
      ],
      "execution_count": 45,
      "outputs": [
        {
          "output_type": "execute_result",
          "data": {
            "text/html": [
              "<div>\n",
              "<style scoped>\n",
              "    .dataframe tbody tr th:only-of-type {\n",
              "        vertical-align: middle;\n",
              "    }\n",
              "\n",
              "    .dataframe tbody tr th {\n",
              "        vertical-align: top;\n",
              "    }\n",
              "\n",
              "    .dataframe thead th {\n",
              "        text-align: right;\n",
              "    }\n",
              "</style>\n",
              "<table border=\"1\" class=\"dataframe\">\n",
              "  <thead>\n",
              "    <tr style=\"text-align: right;\">\n",
              "      <th></th>\n",
              "      <th>age</th>\n",
              "      <th>sex</th>\n",
              "      <th>cp</th>\n",
              "      <th>trestbps</th>\n",
              "      <th>chol</th>\n",
              "      <th>fbs</th>\n",
              "      <th>restecg</th>\n",
              "      <th>thalach</th>\n",
              "      <th>exang</th>\n",
              "      <th>oldpeak</th>\n",
              "      <th>slope</th>\n",
              "      <th>ca</th>\n",
              "      <th>thal</th>\n",
              "      <th>target</th>\n",
              "    </tr>\n",
              "  </thead>\n",
              "  <tbody>\n",
              "    <tr>\n",
              "      <th>count</th>\n",
              "      <td>303.000000</td>\n",
              "      <td>303.000000</td>\n",
              "      <td>303.000000</td>\n",
              "      <td>303.000000</td>\n",
              "      <td>303.000000</td>\n",
              "      <td>303.000000</td>\n",
              "      <td>303.000000</td>\n",
              "      <td>303.000000</td>\n",
              "      <td>303.000000</td>\n",
              "      <td>303.000000</td>\n",
              "      <td>303.000000</td>\n",
              "      <td>303.000000</td>\n",
              "      <td>303.000000</td>\n",
              "      <td>303.000000</td>\n",
              "    </tr>\n",
              "    <tr>\n",
              "      <th>mean</th>\n",
              "      <td>54.366337</td>\n",
              "      <td>0.683168</td>\n",
              "      <td>0.966997</td>\n",
              "      <td>131.623762</td>\n",
              "      <td>246.264026</td>\n",
              "      <td>0.148515</td>\n",
              "      <td>0.528053</td>\n",
              "      <td>149.646865</td>\n",
              "      <td>0.326733</td>\n",
              "      <td>1.039604</td>\n",
              "      <td>1.399340</td>\n",
              "      <td>0.729373</td>\n",
              "      <td>2.313531</td>\n",
              "      <td>0.544554</td>\n",
              "    </tr>\n",
              "    <tr>\n",
              "      <th>std</th>\n",
              "      <td>9.082101</td>\n",
              "      <td>0.466011</td>\n",
              "      <td>1.032052</td>\n",
              "      <td>17.538143</td>\n",
              "      <td>51.830751</td>\n",
              "      <td>0.356198</td>\n",
              "      <td>0.525860</td>\n",
              "      <td>22.905161</td>\n",
              "      <td>0.469794</td>\n",
              "      <td>1.161075</td>\n",
              "      <td>0.616226</td>\n",
              "      <td>1.022606</td>\n",
              "      <td>0.612277</td>\n",
              "      <td>0.498835</td>\n",
              "    </tr>\n",
              "    <tr>\n",
              "      <th>min</th>\n",
              "      <td>29.000000</td>\n",
              "      <td>0.000000</td>\n",
              "      <td>0.000000</td>\n",
              "      <td>94.000000</td>\n",
              "      <td>126.000000</td>\n",
              "      <td>0.000000</td>\n",
              "      <td>0.000000</td>\n",
              "      <td>71.000000</td>\n",
              "      <td>0.000000</td>\n",
              "      <td>0.000000</td>\n",
              "      <td>0.000000</td>\n",
              "      <td>0.000000</td>\n",
              "      <td>0.000000</td>\n",
              "      <td>0.000000</td>\n",
              "    </tr>\n",
              "    <tr>\n",
              "      <th>25%</th>\n",
              "      <td>47.500000</td>\n",
              "      <td>0.000000</td>\n",
              "      <td>0.000000</td>\n",
              "      <td>120.000000</td>\n",
              "      <td>211.000000</td>\n",
              "      <td>0.000000</td>\n",
              "      <td>0.000000</td>\n",
              "      <td>133.500000</td>\n",
              "      <td>0.000000</td>\n",
              "      <td>0.000000</td>\n",
              "      <td>1.000000</td>\n",
              "      <td>0.000000</td>\n",
              "      <td>2.000000</td>\n",
              "      <td>0.000000</td>\n",
              "    </tr>\n",
              "    <tr>\n",
              "      <th>50%</th>\n",
              "      <td>55.000000</td>\n",
              "      <td>1.000000</td>\n",
              "      <td>1.000000</td>\n",
              "      <td>130.000000</td>\n",
              "      <td>240.000000</td>\n",
              "      <td>0.000000</td>\n",
              "      <td>1.000000</td>\n",
              "      <td>153.000000</td>\n",
              "      <td>0.000000</td>\n",
              "      <td>0.800000</td>\n",
              "      <td>1.000000</td>\n",
              "      <td>0.000000</td>\n",
              "      <td>2.000000</td>\n",
              "      <td>1.000000</td>\n",
              "    </tr>\n",
              "    <tr>\n",
              "      <th>75%</th>\n",
              "      <td>61.000000</td>\n",
              "      <td>1.000000</td>\n",
              "      <td>2.000000</td>\n",
              "      <td>140.000000</td>\n",
              "      <td>274.500000</td>\n",
              "      <td>0.000000</td>\n",
              "      <td>1.000000</td>\n",
              "      <td>166.000000</td>\n",
              "      <td>1.000000</td>\n",
              "      <td>1.600000</td>\n",
              "      <td>2.000000</td>\n",
              "      <td>1.000000</td>\n",
              "      <td>3.000000</td>\n",
              "      <td>1.000000</td>\n",
              "    </tr>\n",
              "    <tr>\n",
              "      <th>max</th>\n",
              "      <td>77.000000</td>\n",
              "      <td>1.000000</td>\n",
              "      <td>3.000000</td>\n",
              "      <td>200.000000</td>\n",
              "      <td>564.000000</td>\n",
              "      <td>1.000000</td>\n",
              "      <td>2.000000</td>\n",
              "      <td>202.000000</td>\n",
              "      <td>1.000000</td>\n",
              "      <td>6.200000</td>\n",
              "      <td>2.000000</td>\n",
              "      <td>4.000000</td>\n",
              "      <td>3.000000</td>\n",
              "      <td>1.000000</td>\n",
              "    </tr>\n",
              "  </tbody>\n",
              "</table>\n",
              "</div>"
            ],
            "text/plain": [
              "              age         sex          cp  ...          ca        thal      target\n",
              "count  303.000000  303.000000  303.000000  ...  303.000000  303.000000  303.000000\n",
              "mean    54.366337    0.683168    0.966997  ...    0.729373    2.313531    0.544554\n",
              "std      9.082101    0.466011    1.032052  ...    1.022606    0.612277    0.498835\n",
              "min     29.000000    0.000000    0.000000  ...    0.000000    0.000000    0.000000\n",
              "25%     47.500000    0.000000    0.000000  ...    0.000000    2.000000    0.000000\n",
              "50%     55.000000    1.000000    1.000000  ...    0.000000    2.000000    1.000000\n",
              "75%     61.000000    1.000000    2.000000  ...    1.000000    3.000000    1.000000\n",
              "max     77.000000    1.000000    3.000000  ...    4.000000    3.000000    1.000000\n",
              "\n",
              "[8 rows x 14 columns]"
            ]
          },
          "metadata": {},
          "execution_count": 45
        }
      ]
    },
    {
      "cell_type": "code",
      "metadata": {
        "id": "7g9v462DyeH_"
      },
      "source": [
        ""
      ],
      "execution_count": null,
      "outputs": []
    },
    {
      "cell_type": "code",
      "metadata": {
        "colab": {
          "base_uri": "https://localhost:8080/"
        },
        "id": "MBqFY5-Yxe2f",
        "outputId": "dbbecd45-670b-43db-c847-806c16e76a99"
      },
      "source": [
        "df.isnull().sum()"
      ],
      "execution_count": 46,
      "outputs": [
        {
          "output_type": "execute_result",
          "data": {
            "text/plain": [
              "age         0\n",
              "sex         0\n",
              "cp          0\n",
              "trestbps    0\n",
              "chol        0\n",
              "fbs         0\n",
              "restecg     0\n",
              "thalach     0\n",
              "exang       0\n",
              "oldpeak     0\n",
              "slope       0\n",
              "ca          0\n",
              "thal        0\n",
              "target      0\n",
              "dtype: int64"
            ]
          },
          "metadata": {},
          "execution_count": 46
        }
      ]
    },
    {
      "cell_type": "code",
      "metadata": {
        "id": "I9a-EYogzJER"
      },
      "source": [
        "df.columns = ['age', 'sex', 'chest_pain_type', 'resting_blood_pressure', 'cholesterol', 'fasting_blood_sugar', 'rest_ecg', 'max_heart_rate_achieved',\n",
        "       'exercise_induced_angina', 'st_depression', 'st_slope', 'num_major_vessels', 'thalassemia', 'target']"
      ],
      "execution_count": 47,
      "outputs": []
    },
    {
      "cell_type": "code",
      "metadata": {
        "id": "iwLtIPtcyKIU"
      },
      "source": [
        "df['sex'][df['sex']==0]='female'\n",
        "df['sex'][df['sex']==1]='male'\n",
        "\n",
        "df['chest_pain_type'][df['chest_pain_type'] == 1] = 'typical angina'\n",
        "df['chest_pain_type'][df['chest_pain_type'] == 2] = 'atypical angina'\n",
        "df['chest_pain_type'][df['chest_pain_type'] == 3] = 'non-anginal pain'\n",
        "df['chest_pain_type'][df['chest_pain_type'] == 4] = 'asymptomatic'\n",
        "\n",
        "df['fasting_blood_sugar'][df['fasting_blood_sugar'] == 0] = 'lower than 120mg/ml'\n",
        "df['fasting_blood_sugar'][df['fasting_blood_sugar'] == 1] = 'greater than 120mg/ml'\n",
        "\n",
        "df['rest_ecg'][df['rest_ecg'] == 0] = 'normal'\n",
        "df['rest_ecg'][df['rest_ecg'] == 1] = 'ST-T wave abnormality'\n",
        "df['rest_ecg'][df['rest_ecg'] == 2] = 'left ventricular hypertrophy'\n",
        "\n",
        "df['exercise_induced_angina'][df['exercise_induced_angina'] == 0] = 'no'\n",
        "df['exercise_induced_angina'][df['exercise_induced_angina'] == 1] = 'yes'\n",
        "\n",
        "df['st_slope'][df['st_slope'] == 1] = 'upsloping'\n",
        "df['st_slope'][df['st_slope'] == 2] = 'flat'\n",
        "df['st_slope'][df['st_slope'] == 3] = 'downsloping'\n",
        "\n",
        "df['thalassemia'][df['thalassemia'] == 1] = 'normal'\n",
        "df['thalassemia'][df['thalassemia'] == 2] = 'fixed defect'\n",
        "df['thalassemia'][df['thalassemia'] == 3] = 'reversable defect'"
      ],
      "execution_count": 48,
      "outputs": []
    },
    {
      "cell_type": "code",
      "metadata": {
        "colab": {
          "base_uri": "https://localhost:8080/",
          "height": 274
        },
        "id": "C8spcyr8xq0M",
        "outputId": "30e71de3-7563-43af-9899-4ccd52a047e5"
      },
      "source": [
        "df.head()"
      ],
      "execution_count": 49,
      "outputs": [
        {
          "output_type": "execute_result",
          "data": {
            "text/html": [
              "<div>\n",
              "<style scoped>\n",
              "    .dataframe tbody tr th:only-of-type {\n",
              "        vertical-align: middle;\n",
              "    }\n",
              "\n",
              "    .dataframe tbody tr th {\n",
              "        vertical-align: top;\n",
              "    }\n",
              "\n",
              "    .dataframe thead th {\n",
              "        text-align: right;\n",
              "    }\n",
              "</style>\n",
              "<table border=\"1\" class=\"dataframe\">\n",
              "  <thead>\n",
              "    <tr style=\"text-align: right;\">\n",
              "      <th></th>\n",
              "      <th>age</th>\n",
              "      <th>sex</th>\n",
              "      <th>chest_pain_type</th>\n",
              "      <th>resting_blood_pressure</th>\n",
              "      <th>cholesterol</th>\n",
              "      <th>fasting_blood_sugar</th>\n",
              "      <th>rest_ecg</th>\n",
              "      <th>max_heart_rate_achieved</th>\n",
              "      <th>exercise_induced_angina</th>\n",
              "      <th>st_depression</th>\n",
              "      <th>st_slope</th>\n",
              "      <th>num_major_vessels</th>\n",
              "      <th>thalassemia</th>\n",
              "      <th>target</th>\n",
              "    </tr>\n",
              "  </thead>\n",
              "  <tbody>\n",
              "    <tr>\n",
              "      <th>0</th>\n",
              "      <td>63</td>\n",
              "      <td>male</td>\n",
              "      <td>non-anginal pain</td>\n",
              "      <td>145</td>\n",
              "      <td>233</td>\n",
              "      <td>greater than 120mg/ml</td>\n",
              "      <td>normal</td>\n",
              "      <td>150</td>\n",
              "      <td>no</td>\n",
              "      <td>2.3</td>\n",
              "      <td>0</td>\n",
              "      <td>0</td>\n",
              "      <td>normal</td>\n",
              "      <td>1</td>\n",
              "    </tr>\n",
              "    <tr>\n",
              "      <th>1</th>\n",
              "      <td>37</td>\n",
              "      <td>male</td>\n",
              "      <td>atypical angina</td>\n",
              "      <td>130</td>\n",
              "      <td>250</td>\n",
              "      <td>lower than 120mg/ml</td>\n",
              "      <td>ST-T wave abnormality</td>\n",
              "      <td>187</td>\n",
              "      <td>no</td>\n",
              "      <td>3.5</td>\n",
              "      <td>0</td>\n",
              "      <td>0</td>\n",
              "      <td>fixed defect</td>\n",
              "      <td>1</td>\n",
              "    </tr>\n",
              "    <tr>\n",
              "      <th>2</th>\n",
              "      <td>41</td>\n",
              "      <td>female</td>\n",
              "      <td>typical angina</td>\n",
              "      <td>130</td>\n",
              "      <td>204</td>\n",
              "      <td>lower than 120mg/ml</td>\n",
              "      <td>normal</td>\n",
              "      <td>172</td>\n",
              "      <td>no</td>\n",
              "      <td>1.4</td>\n",
              "      <td>flat</td>\n",
              "      <td>0</td>\n",
              "      <td>fixed defect</td>\n",
              "      <td>1</td>\n",
              "    </tr>\n",
              "    <tr>\n",
              "      <th>3</th>\n",
              "      <td>56</td>\n",
              "      <td>male</td>\n",
              "      <td>typical angina</td>\n",
              "      <td>120</td>\n",
              "      <td>236</td>\n",
              "      <td>lower than 120mg/ml</td>\n",
              "      <td>ST-T wave abnormality</td>\n",
              "      <td>178</td>\n",
              "      <td>no</td>\n",
              "      <td>0.8</td>\n",
              "      <td>flat</td>\n",
              "      <td>0</td>\n",
              "      <td>fixed defect</td>\n",
              "      <td>1</td>\n",
              "    </tr>\n",
              "    <tr>\n",
              "      <th>4</th>\n",
              "      <td>57</td>\n",
              "      <td>female</td>\n",
              "      <td>0</td>\n",
              "      <td>120</td>\n",
              "      <td>354</td>\n",
              "      <td>lower than 120mg/ml</td>\n",
              "      <td>ST-T wave abnormality</td>\n",
              "      <td>163</td>\n",
              "      <td>yes</td>\n",
              "      <td>0.6</td>\n",
              "      <td>flat</td>\n",
              "      <td>0</td>\n",
              "      <td>fixed defect</td>\n",
              "      <td>1</td>\n",
              "    </tr>\n",
              "  </tbody>\n",
              "</table>\n",
              "</div>"
            ],
            "text/plain": [
              "   age     sex   chest_pain_type  ...  num_major_vessels   thalassemia target\n",
              "0   63    male  non-anginal pain  ...                  0        normal      1\n",
              "1   37    male   atypical angina  ...                  0  fixed defect      1\n",
              "2   41  female    typical angina  ...                  0  fixed defect      1\n",
              "3   56    male    typical angina  ...                  0  fixed defect      1\n",
              "4   57  female                 0  ...                  0  fixed defect      1\n",
              "\n",
              "[5 rows x 14 columns]"
            ]
          },
          "metadata": {},
          "execution_count": 49
        }
      ]
    },
    {
      "cell_type": "code",
      "metadata": {
        "colab": {
          "base_uri": "https://localhost:8080/"
        },
        "id": "LS0bi3WxxZiS",
        "outputId": "c4982ca7-7eaf-4165-b668-6903a55e9bd6"
      },
      "source": [
        "df.info()"
      ],
      "execution_count": 50,
      "outputs": [
        {
          "output_type": "stream",
          "name": "stdout",
          "text": [
            "<class 'pandas.core.frame.DataFrame'>\n",
            "RangeIndex: 303 entries, 0 to 302\n",
            "Data columns (total 14 columns):\n",
            " #   Column                   Non-Null Count  Dtype  \n",
            "---  ------                   --------------  -----  \n",
            " 0   age                      303 non-null    int64  \n",
            " 1   sex                      303 non-null    object \n",
            " 2   chest_pain_type          303 non-null    object \n",
            " 3   resting_blood_pressure   303 non-null    int64  \n",
            " 4   cholesterol              303 non-null    int64  \n",
            " 5   fasting_blood_sugar      303 non-null    object \n",
            " 6   rest_ecg                 303 non-null    object \n",
            " 7   max_heart_rate_achieved  303 non-null    int64  \n",
            " 8   exercise_induced_angina  303 non-null    object \n",
            " 9   st_depression            303 non-null    float64\n",
            " 10  st_slope                 303 non-null    object \n",
            " 11  num_major_vessels        303 non-null    int64  \n",
            " 12  thalassemia              303 non-null    object \n",
            " 13  target                   303 non-null    int64  \n",
            "dtypes: float64(1), int64(6), object(7)\n",
            "memory usage: 33.3+ KB\n"
          ]
        }
      ]
    },
    {
      "cell_type": "code",
      "metadata": {
        "id": "C9ZjSsERyiWf"
      },
      "source": [
        "dt=df\n",
        "dt['sex'] = dt['sex'].astype('object')\n",
        "dt['chest_pain_type'] = dt['chest_pain_type'].astype('object')\n",
        "dt['fasting_blood_sugar'] = dt['fasting_blood_sugar'].astype('object')\n",
        "dt['rest_ecg'] = dt['rest_ecg'].astype('object')\n",
        "dt['exercise_induced_angina'] = dt['exercise_induced_angina'].astype('object')\n",
        "dt['st_slope'] = dt['st_slope'].astype('object')\n",
        "dt['thalassemia'] = dt['thalassemia'].astype('object')"
      ],
      "execution_count": 51,
      "outputs": []
    },
    {
      "cell_type": "code",
      "metadata": {
        "id": "vZ1vDhxSqbqz"
      },
      "source": [
        "X = dt.drop(columns=[\"target\"])\n",
        "Y = dt[[\"target\"]]"
      ],
      "execution_count": 52,
      "outputs": []
    },
    {
      "cell_type": "code",
      "metadata": {
        "id": "z7Ib6sxMqlox"
      },
      "source": [
        "X_train, X_test, y_train, y_test = train_test_split(X, Y, test_size=0.15, random_state=10)"
      ],
      "execution_count": 53,
      "outputs": []
    },
    {
      "cell_type": "code",
      "metadata": {
        "colab": {
          "base_uri": "https://localhost:8080/"
        },
        "id": "hiLZPHo1r5WN",
        "outputId": "0c0657fa-a20f-409d-d88d-b6b92656e35f"
      },
      "source": [
        "pip install feature-engine"
      ],
      "execution_count": 54,
      "outputs": [
        {
          "output_type": "stream",
          "name": "stdout",
          "text": [
            "Requirement already satisfied: feature-engine in /usr/local/lib/python3.7/dist-packages (1.1.2)\n",
            "Requirement already satisfied: statsmodels>=0.11.1 in /usr/local/lib/python3.7/dist-packages (from feature-engine) (0.13.1)\n",
            "Requirement already satisfied: scikit-learn>=0.22.2 in /usr/local/lib/python3.7/dist-packages (from feature-engine) (1.0.1)\n",
            "Requirement already satisfied: scipy>=1.4.1 in /usr/local/lib/python3.7/dist-packages (from feature-engine) (1.4.1)\n",
            "Requirement already satisfied: numpy>=1.18.2 in /usr/local/lib/python3.7/dist-packages (from feature-engine) (1.19.5)\n",
            "Requirement already satisfied: pandas>=1.0.3 in /usr/local/lib/python3.7/dist-packages (from feature-engine) (1.1.5)\n",
            "Requirement already satisfied: pytz>=2017.2 in /usr/local/lib/python3.7/dist-packages (from pandas>=1.0.3->feature-engine) (2018.9)\n",
            "Requirement already satisfied: python-dateutil>=2.7.3 in /usr/local/lib/python3.7/dist-packages (from pandas>=1.0.3->feature-engine) (2.8.2)\n",
            "Requirement already satisfied: six>=1.5 in /usr/local/lib/python3.7/dist-packages (from python-dateutil>=2.7.3->pandas>=1.0.3->feature-engine) (1.15.0)\n",
            "Requirement already satisfied: threadpoolctl>=2.0.0 in /usr/local/lib/python3.7/dist-packages (from scikit-learn>=0.22.2->feature-engine) (3.0.0)\n",
            "Requirement already satisfied: joblib>=0.11 in /usr/local/lib/python3.7/dist-packages (from scikit-learn>=0.22.2->feature-engine) (1.1.0)\n",
            "Requirement already satisfied: patsy>=0.5.2 in /usr/local/lib/python3.7/dist-packages (from statsmodels>=0.11.1->feature-engine) (0.5.2)\n"
          ]
        }
      ]
    },
    {
      "cell_type": "code",
      "metadata": {
        "id": "89wCHO2BrOYu"
      },
      "source": [
        "from feature_engine.encoding import OneHotEncoder\n",
        "to_encode = [\"sex\", \"chest_pain_type\", \"fasting_blood_sugar\",\"rest_ecg\",\t\"exercise_induced_angina\", \"st_slope\", \"thalassemia\"]\n",
        "\n",
        "# Configuração do encoder\n",
        "encoder = OneHotEncoder(variables=to_encode, drop_last=False)\n",
        "\n",
        "# fit tdo encoder\n",
        "encoder.fit(X_train)\n",
        "\n",
        "# transformando os dados\n",
        "X_train= encoder.transform(X_train)\n",
        "X_test= encoder.transform(X_test)"
      ],
      "execution_count": 55,
      "outputs": []
    },
    {
      "cell_type": "code",
      "metadata": {
        "id": "DutlHEZmrwsr"
      },
      "source": [
        "# Normalização das variáveis\n",
        "\n",
        "from sklearn.preprocessing import MinMaxScaler\n",
        "\n",
        "scaler = MinMaxScaler()\n",
        "scaler.fit(X_train)\n",
        "\n",
        "X_train_scaled = scaler.transform(X_train)\n",
        "X_test_scaled = scaler.transform(X_test)\n",
        "\n",
        "# Transformand para dataframe para visualização\n",
        "X_train = pd.DataFrame(X_train_scaled,columns = X_train.columns)\n",
        "X_test = pd.DataFrame(X_test_scaled,columns = X_test.columns)"
      ],
      "execution_count": 56,
      "outputs": []
    },
    {
      "cell_type": "code",
      "metadata": {
        "colab": {
          "base_uri": "https://localhost:8080/",
          "height": 257
        },
        "id": "noLRSsDSsPJ7",
        "outputId": "fe906c91-b6fb-427f-92c8-04f81e225622"
      },
      "source": [
        "X_train.head()"
      ],
      "execution_count": 57,
      "outputs": [
        {
          "output_type": "execute_result",
          "data": {
            "text/html": [
              "<div>\n",
              "<style scoped>\n",
              "    .dataframe tbody tr th:only-of-type {\n",
              "        vertical-align: middle;\n",
              "    }\n",
              "\n",
              "    .dataframe tbody tr th {\n",
              "        vertical-align: top;\n",
              "    }\n",
              "\n",
              "    .dataframe thead th {\n",
              "        text-align: right;\n",
              "    }\n",
              "</style>\n",
              "<table border=\"1\" class=\"dataframe\">\n",
              "  <thead>\n",
              "    <tr style=\"text-align: right;\">\n",
              "      <th></th>\n",
              "      <th>age</th>\n",
              "      <th>resting_blood_pressure</th>\n",
              "      <th>cholesterol</th>\n",
              "      <th>max_heart_rate_achieved</th>\n",
              "      <th>st_depression</th>\n",
              "      <th>num_major_vessels</th>\n",
              "      <th>sex_male</th>\n",
              "      <th>sex_female</th>\n",
              "      <th>chest_pain_type_non-anginal pain</th>\n",
              "      <th>chest_pain_type_0</th>\n",
              "      <th>chest_pain_type_atypical angina</th>\n",
              "      <th>chest_pain_type_typical angina</th>\n",
              "      <th>fasting_blood_sugar_lower than 120mg/ml</th>\n",
              "      <th>fasting_blood_sugar_greater than 120mg/ml</th>\n",
              "      <th>rest_ecg_ST-T wave abnormality</th>\n",
              "      <th>rest_ecg_normal</th>\n",
              "      <th>rest_ecg_left ventricular hypertrophy</th>\n",
              "      <th>exercise_induced_angina_yes</th>\n",
              "      <th>exercise_induced_angina_no</th>\n",
              "      <th>st_slope_upsloping</th>\n",
              "      <th>st_slope_flat</th>\n",
              "      <th>st_slope_0</th>\n",
              "      <th>thalassemia_reversable defect</th>\n",
              "      <th>thalassemia_fixed defect</th>\n",
              "      <th>thalassemia_normal</th>\n",
              "      <th>thalassemia_0</th>\n",
              "    </tr>\n",
              "  </thead>\n",
              "  <tbody>\n",
              "    <tr>\n",
              "      <th>0</th>\n",
              "      <td>0.187500</td>\n",
              "      <td>0.245283</td>\n",
              "      <td>0.239726</td>\n",
              "      <td>0.847328</td>\n",
              "      <td>0.612903</td>\n",
              "      <td>0.00</td>\n",
              "      <td>1.0</td>\n",
              "      <td>0.0</td>\n",
              "      <td>1.0</td>\n",
              "      <td>0.0</td>\n",
              "      <td>0.0</td>\n",
              "      <td>0.0</td>\n",
              "      <td>1.0</td>\n",
              "      <td>0.0</td>\n",
              "      <td>1.0</td>\n",
              "      <td>0.0</td>\n",
              "      <td>0.0</td>\n",
              "      <td>1.0</td>\n",
              "      <td>0.0</td>\n",
              "      <td>1.0</td>\n",
              "      <td>0.0</td>\n",
              "      <td>0.0</td>\n",
              "      <td>1.0</td>\n",
              "      <td>0.0</td>\n",
              "      <td>0.0</td>\n",
              "      <td>0.0</td>\n",
              "    </tr>\n",
              "    <tr>\n",
              "      <th>1</th>\n",
              "      <td>0.395833</td>\n",
              "      <td>0.264151</td>\n",
              "      <td>0.219178</td>\n",
              "      <td>0.877863</td>\n",
              "      <td>0.000000</td>\n",
              "      <td>0.00</td>\n",
              "      <td>1.0</td>\n",
              "      <td>0.0</td>\n",
              "      <td>0.0</td>\n",
              "      <td>1.0</td>\n",
              "      <td>0.0</td>\n",
              "      <td>0.0</td>\n",
              "      <td>1.0</td>\n",
              "      <td>0.0</td>\n",
              "      <td>0.0</td>\n",
              "      <td>1.0</td>\n",
              "      <td>0.0</td>\n",
              "      <td>0.0</td>\n",
              "      <td>1.0</td>\n",
              "      <td>0.0</td>\n",
              "      <td>1.0</td>\n",
              "      <td>0.0</td>\n",
              "      <td>0.0</td>\n",
              "      <td>1.0</td>\n",
              "      <td>0.0</td>\n",
              "      <td>0.0</td>\n",
              "    </tr>\n",
              "    <tr>\n",
              "      <th>2</th>\n",
              "      <td>0.291667</td>\n",
              "      <td>0.339623</td>\n",
              "      <td>0.431507</td>\n",
              "      <td>0.694656</td>\n",
              "      <td>0.306452</td>\n",
              "      <td>0.25</td>\n",
              "      <td>1.0</td>\n",
              "      <td>0.0</td>\n",
              "      <td>0.0</td>\n",
              "      <td>0.0</td>\n",
              "      <td>1.0</td>\n",
              "      <td>0.0</td>\n",
              "      <td>1.0</td>\n",
              "      <td>0.0</td>\n",
              "      <td>1.0</td>\n",
              "      <td>0.0</td>\n",
              "      <td>0.0</td>\n",
              "      <td>0.0</td>\n",
              "      <td>1.0</td>\n",
              "      <td>0.0</td>\n",
              "      <td>1.0</td>\n",
              "      <td>0.0</td>\n",
              "      <td>0.0</td>\n",
              "      <td>1.0</td>\n",
              "      <td>0.0</td>\n",
              "      <td>0.0</td>\n",
              "    </tr>\n",
              "    <tr>\n",
              "      <th>3</th>\n",
              "      <td>0.833333</td>\n",
              "      <td>0.622642</td>\n",
              "      <td>0.246575</td>\n",
              "      <td>0.458015</td>\n",
              "      <td>0.016129</td>\n",
              "      <td>0.25</td>\n",
              "      <td>1.0</td>\n",
              "      <td>0.0</td>\n",
              "      <td>1.0</td>\n",
              "      <td>0.0</td>\n",
              "      <td>0.0</td>\n",
              "      <td>0.0</td>\n",
              "      <td>0.0</td>\n",
              "      <td>1.0</td>\n",
              "      <td>0.0</td>\n",
              "      <td>1.0</td>\n",
              "      <td>0.0</td>\n",
              "      <td>0.0</td>\n",
              "      <td>1.0</td>\n",
              "      <td>1.0</td>\n",
              "      <td>0.0</td>\n",
              "      <td>0.0</td>\n",
              "      <td>0.0</td>\n",
              "      <td>1.0</td>\n",
              "      <td>0.0</td>\n",
              "      <td>0.0</td>\n",
              "    </tr>\n",
              "    <tr>\n",
              "      <th>4</th>\n",
              "      <td>0.604167</td>\n",
              "      <td>0.358491</td>\n",
              "      <td>0.223744</td>\n",
              "      <td>0.778626</td>\n",
              "      <td>0.516129</td>\n",
              "      <td>0.50</td>\n",
              "      <td>1.0</td>\n",
              "      <td>0.0</td>\n",
              "      <td>0.0</td>\n",
              "      <td>0.0</td>\n",
              "      <td>1.0</td>\n",
              "      <td>0.0</td>\n",
              "      <td>1.0</td>\n",
              "      <td>0.0</td>\n",
              "      <td>0.0</td>\n",
              "      <td>1.0</td>\n",
              "      <td>0.0</td>\n",
              "      <td>0.0</td>\n",
              "      <td>1.0</td>\n",
              "      <td>0.0</td>\n",
              "      <td>1.0</td>\n",
              "      <td>0.0</td>\n",
              "      <td>1.0</td>\n",
              "      <td>0.0</td>\n",
              "      <td>0.0</td>\n",
              "      <td>0.0</td>\n",
              "    </tr>\n",
              "  </tbody>\n",
              "</table>\n",
              "</div>"
            ],
            "text/plain": [
              "        age  resting_blood_pressure  ...  thalassemia_normal  thalassemia_0\n",
              "0  0.187500                0.245283  ...                 0.0            0.0\n",
              "1  0.395833                0.264151  ...                 0.0            0.0\n",
              "2  0.291667                0.339623  ...                 0.0            0.0\n",
              "3  0.833333                0.622642  ...                 0.0            0.0\n",
              "4  0.604167                0.358491  ...                 0.0            0.0\n",
              "\n",
              "[5 rows x 26 columns]"
            ]
          },
          "metadata": {},
          "execution_count": 57
        }
      ]
    },
    {
      "cell_type": "code",
      "metadata": {
        "id": "fFHr1ZxFsRAg"
      },
      "source": [
        "from sklearn.model_selection import GridSearchCV\n",
        "\n",
        "params_grid = {\n",
        "          \"C\":(0.01, 1, 10, 100), \n",
        "          \"penalty\":(\"l1\",\"l2\")\n",
        "}\n"
      ],
      "execution_count": 58,
      "outputs": []
    },
    {
      "cell_type": "code",
      "metadata": {
        "colab": {
          "base_uri": "https://localhost:8080/"
        },
        "id": "NqgMQ-gbsVoe",
        "outputId": "590330c5-f804-4de8-a846-fc2d27359f58"
      },
      "source": [
        "from sklearn.linear_model import  LogisticRegression\n",
        "# Create a based model\n",
        "clf = LogisticRegression()\n",
        "\n",
        "# Instantiate the grid search model\n",
        "grid_search = GridSearchCV(estimator=clf, param_grid=params_grid, n_jobs=-1, cv=3, verbose=0)\n",
        "\n",
        "# Fit the grid search to the data\n",
        "grid_search.fit(X_train, y_train)"
      ],
      "execution_count": 59,
      "outputs": [
        {
          "output_type": "execute_result",
          "data": {
            "text/plain": [
              "GridSearchCV(cv=3, estimator=LogisticRegression(), n_jobs=-1,\n",
              "             param_grid={'C': (0.01, 1, 10, 100), 'penalty': ('l1', 'l2')})"
            ]
          },
          "metadata": {},
          "execution_count": 59
        }
      ]
    },
    {
      "cell_type": "code",
      "metadata": {
        "colab": {
          "base_uri": "https://localhost:8080/"
        },
        "id": "1s2ffgfgsZCf",
        "outputId": "a054ff84-44a3-4dcc-df2e-5cc5e36a333a"
      },
      "source": [
        "print(grid_search.best_params_)\n",
        "best_rf = grid_search.best_estimator_"
      ],
      "execution_count": 60,
      "outputs": [
        {
          "output_type": "stream",
          "name": "stdout",
          "text": [
            "{'C': 10, 'penalty': 'l2'}\n"
          ]
        }
      ]
    },
    {
      "cell_type": "code",
      "metadata": {
        "colab": {
          "base_uri": "https://localhost:8080/"
        },
        "id": "j42s6efssb9L",
        "outputId": "406a4fb4-733a-4461-f536-e583932b2bd9"
      },
      "source": [
        "from sklearn.metrics import f1_score, accuracy_score, precision_score, recall_score\n",
        "\n",
        "y_pred = best_rf.predict(X_test)\n",
        "\n",
        "\n",
        "f1 = round(f1_score(y_test, y_pred, average='macro')*100, 2)\n",
        "accuracy = round(accuracy_score(y_test, y_pred)*100,2)\n",
        "precision = round(precision_score(y_test, y_pred)*100,2)\n",
        "recall = round(recall_score(y_test, y_pred)*100,2)\n",
        "\n",
        "\n",
        "print(f\"F1 Score: {f1}%\")\n",
        "print(f\"Accuracy Score: {accuracy}%\")\n",
        "print(f\"Precision Score: {precision}%\")\n",
        "print(f\"Recall Score: {recall}%\")\n",
        "\n",
        "metricas = {}\n",
        "metricas[\"LogisticRegression\"]={\n",
        "                            \"accuracy\":accuracy,\n",
        "                            \"precision\":precision,\n",
        "                            \"recall\":recall,\n",
        "                            \"f1\":f1\n",
        "                            }"
      ],
      "execution_count": 61,
      "outputs": [
        {
          "output_type": "stream",
          "name": "stdout",
          "text": [
            "F1 Score: 81.75%\n",
            "Accuracy Score: 82.61%\n",
            "Precision Score: 82.35%\n",
            "Recall Score: 73.68%\n"
          ]
        }
      ]
    },
    {
      "cell_type": "code",
      "metadata": {
        "colab": {
          "base_uri": "https://localhost:8080/",
          "height": 285
        },
        "id": "KzJwdNzcseyj",
        "outputId": "dc4d0bf5-3fa8-433f-fdcc-74413ab915a9"
      },
      "source": [
        "from sklearn.metrics import plot_confusion_matrix\n",
        "import matplotlib.pyplot as plt  \n",
        "\n",
        "\n",
        "plot_confusion_matrix(best_rf, X_test, y_test, values_format='d')  \n",
        "plt.grid(False)\n",
        "plt.show()"
      ],
      "execution_count": 62,
      "outputs": [
        {
          "output_type": "display_data",
          "data": {
            "image/png": "[encoded data removed]",
            "text/plain": [
              "<Figure size 432x288 with 2 Axes>"
            ]
          },
          "metadata": {
            "needs_background": "light"
          }
        }
      ]
    },
    {
      "cell_type": "code",
      "metadata": {
        "colab": {
          "base_uri": "https://localhost:8080/",
          "height": 285
        },
        "id": "W9NzxRyusipV",
        "outputId": "33124092-3737-4a1c-b079-9f2e80b5f7c9"
      },
      "source": [
        "from sklearn.metrics import plot_roc_curve\n",
        "\n",
        "# Curva ROC\n",
        "plot_roc_curve(best_rf, X_test, y_test)  \n",
        "plt.grid()\n",
        "plt.show()"
      ],
      "execution_count": 63,
      "outputs": [
        {
          "output_type": "display_data",
          "data": {
            "image/png": "[encoded data removed]",
            "text/plain": [
              "<Figure size 432x288 with 1 Axes>"
            ]
          },
          "metadata": {
            "needs_background": "light"
          }
        }
      ]
    },
    {
      "cell_type": "code",
      "metadata": {
        "id": "gLSLH3r0smMZ"
      },
      "source": [
        "from sklearn.ensemble import RandomForestClassifier\n",
        "\n",
        "params_grid = {\n",
        "    'max_depth': [100, 150],\n",
        "    'max_features': [3, 4, 5],\n",
        "    'criterion':['gini', 'entropy'],\n",
        "    'min_samples_leaf': [1,2,3],\n",
        "    'min_samples_split': [2, 3, 8, 10],\n",
        "    'n_estimators': [200,300,400]\n",
        "}"
      ],
      "execution_count": 64,
      "outputs": []
    },
    {
      "cell_type": "code",
      "metadata": {
        "colab": {
          "base_uri": "https://localhost:8080/"
        },
        "id": "KpDih-yqstYy",
        "outputId": "3e68d33f-2213-49ca-cc08-f886e5bcf505"
      },
      "source": [
        "! pip install scikit-optimize\n"
      ],
      "execution_count": 67,
      "outputs": [
        {
          "output_type": "stream",
          "name": "stdout",
          "text": [
            "Collecting scikit-optimize\n",
            "  Downloading scikit_optimize-0.9.0-py2.py3-none-any.whl (100 kB)\n",
            "\u001b[?25l\r\u001b[K     |███▎                            | 10 kB 18.0 MB/s eta 0:00:01\r\u001b[K     |██████▌                         | 20 kB 21.7 MB/s eta 0:00:01\r\u001b[K     |█████████▉                      | 30 kB 18.7 MB/s eta 0:00:01\r\u001b[K     |█████████████                   | 40 kB 11.9 MB/s eta 0:00:01\r\u001b[K     |████████████████▍               | 51 kB 7.7 MB/s eta 0:00:01\r\u001b[K     |███████████████████▋            | 61 kB 7.2 MB/s eta 0:00:01\r\u001b[K     |██████████████████████▉         | 71 kB 7.0 MB/s eta 0:00:01\r\u001b[K     |██████████████████████████▏     | 81 kB 7.7 MB/s eta 0:00:01\r\u001b[K     |█████████████████████████████▍  | 92 kB 6.8 MB/s eta 0:00:01\r\u001b[K     |████████████████████████████████| 100 kB 4.1 MB/s \n",
            "\u001b[?25hRequirement already satisfied: scikit-learn>=0.20.0 in /usr/local/lib/python3.7/dist-packages (from scikit-optimize) (1.0.1)\n",
            "Requirement already satisfied: scipy>=0.19.1 in /usr/local/lib/python3.7/dist-packages (from scikit-optimize) (1.4.1)\n",
            "Collecting pyaml>=16.9\n",
            "  Downloading pyaml-21.10.1-py2.py3-none-any.whl (24 kB)\n",
            "Requirement already satisfied: joblib>=0.11 in /usr/local/lib/python3.7/dist-packages (from scikit-optimize) (1.1.0)\n",
            "Requirement already satisfied: numpy>=1.13.3 in /usr/local/lib/python3.7/dist-packages (from scikit-optimize) (1.19.5)\n",
            "Requirement already satisfied: PyYAML in /usr/local/lib/python3.7/dist-packages (from pyaml>=16.9->scikit-optimize) (3.13)\n",
            "Requirement already satisfied: threadpoolctl>=2.0.0 in /usr/local/lib/python3.7/dist-packages (from scikit-learn>=0.20.0->scikit-optimize) (3.0.0)\n",
            "Installing collected packages: pyaml, scikit-optimize\n",
            "Successfully installed pyaml-21.10.1 scikit-optimize-0.9.0\n"
          ]
        }
      ]
    },
    {
      "cell_type": "code",
      "metadata": {
        "colab": {
          "base_uri": "https://localhost:8080/"
        },
        "id": "jSnf9Gpasp2I",
        "outputId": "25134569-8aaa-42af-beab-c83719f070f9"
      },
      "source": [
        "from skopt import BayesSearchCV\n",
        "\n",
        "# Create a based model\n",
        "clf = RandomForestClassifier()\n",
        "\n",
        "# Instantiate the grid search model\n",
        "bayes_search = BayesSearchCV(estimator=clf, search_spaces=params_grid, n_jobs=-1, cv=3, verbose=0)\n",
        "\n",
        "# # Fit the grid search to the data\n",
        "bayes_search.fit(X_train, y_train)"
      ],
      "execution_count": 68,
      "outputs": [
        {
          "output_type": "execute_result",
          "data": {
            "text/plain": [
              "BayesSearchCV(cv=3, estimator=RandomForestClassifier(), n_jobs=-1,\n",
              "              search_spaces={'criterion': ['gini', 'entropy'],\n",
              "                             'max_depth': [100, 150], 'max_features': [3, 4, 5],\n",
              "                             'min_samples_leaf': [1, 2, 3],\n",
              "                             'min_samples_split': [2, 3, 8, 10],\n",
              "                             'n_estimators': [200, 300, 400]})"
            ]
          },
          "metadata": {},
          "execution_count": 68
        }
      ]
    },
    {
      "cell_type": "code",
      "metadata": {
        "colab": {
          "base_uri": "https://localhost:8080/"
        },
        "id": "vUDnc_9Wsrt6",
        "outputId": "94eda300-3274-4b0d-c6bc-04eb1a2bf295"
      },
      "source": [
        "print(bayes_search.best_params_)\n",
        "best_rf = bayes_search.best_estimator_"
      ],
      "execution_count": 69,
      "outputs": [
        {
          "output_type": "stream",
          "name": "stdout",
          "text": [
            "OrderedDict([('criterion', 'gini'), ('max_depth', 146), ('max_features', 4), ('min_samples_leaf', 1), ('min_samples_split', 2), ('n_estimators', 400)])\n"
          ]
        }
      ]
    },
    {
      "cell_type": "code",
      "metadata": {
        "colab": {
          "base_uri": "https://localhost:8080/"
        },
        "id": "Get0AzL5ttuB",
        "outputId": "23882ca6-4bd2-41f9-be33-2cc831205e1a"
      },
      "source": [
        "y_pred = best_rf.predict(X_test)\n",
        "\n",
        "f1 = round(f1_score(y_test, y_pred, average='macro')*100, 2)\n",
        "accuracy = round(accuracy_score(y_test, y_pred)*100,2)\n",
        "precision = round(precision_score(y_test, y_pred)*100,2)\n",
        "recall = round(recall_score(y_test, y_pred)*100,2)\n",
        "\n",
        "\n",
        "print(f\"F1 Score: {f1}%\")\n",
        "print(f\"Accuracy Score: {accuracy}%\")\n",
        "print(f\"Precision Score: {precision}%\")\n",
        "print(f\"Recall Score: {recall}%\")\n",
        "\n",
        "metricas[\"RandomForest\"]={\n",
        "                            \"accuracy\":accuracy,\n",
        "                            \"precision\":precision,\n",
        "                            \"recall\":recall,\n",
        "                            \"f1\":f1\n",
        "}\n"
      ],
      "execution_count": 70,
      "outputs": [
        {
          "output_type": "stream",
          "name": "stdout",
          "text": [
            "F1 Score: 86.55%\n",
            "Accuracy Score: 86.96%\n",
            "Precision Score: 84.21%\n",
            "Recall Score: 84.21%\n"
          ]
        }
      ]
    },
    {
      "cell_type": "code",
      "metadata": {
        "colab": {
          "base_uri": "https://localhost:8080/",
          "height": 285
        },
        "id": "Foad5Y4ot2lH",
        "outputId": "34bcfa8f-bde2-4a57-89b2-a799f4925cbe"
      },
      "source": [
        "# Matriz de confusão\n",
        "\n",
        "plot_confusion_matrix(best_rf, X_test, y_test, values_format='d')  \n",
        "plt.grid(False)\n",
        "plt.show()"
      ],
      "execution_count": 71,
      "outputs": [
        {
          "output_type": "display_data",
          "data": {
            "image/png": "[encoded data removed]",
            "text/plain": [
              "<Figure size 432x288 with 2 Axes>"
            ]
          },
          "metadata": {
            "needs_background": "light"
          }
        }
      ]
    },
    {
      "cell_type": "code",
      "metadata": {
        "colab": {
          "base_uri": "https://localhost:8080/",
          "height": 285
        },
        "id": "pCKdXRDEt5Dg",
        "outputId": "acd3d03f-2450-4f44-cba8-29a04a6f37b9"
      },
      "source": [
        "# Curva ROC\n",
        "plot_roc_curve(best_rf, X_test, y_test)  \n",
        "plt.grid()\n",
        "plt.show()"
      ],
      "execution_count": 72,
      "outputs": [
        {
          "output_type": "display_data",
          "data": {
            "image/png": "[encoded data removed]",
            "text/plain": [
              "<Figure size 432x288 with 1 Axes>"
            ]
          },
          "metadata": {
            "needs_background": "light"
          }
        }
      ]
    },
    {
      "cell_type": "code",
      "metadata": {
        "id": "A8zzca5gucsd"
      },
      "source": [
        "resumo = pd.DataFrame.from_dict(metricas, orient='index')"
      ],
      "execution_count": 82,
      "outputs": []
    },
    {
      "cell_type": "code",
      "metadata": {
        "colab": {
          "base_uri": "https://localhost:8080/",
          "height": 142
        },
        "id": "DxAIXGrpub6H",
        "outputId": "6e41975c-a566-44f3-b9a2-334f9caae8df"
      },
      "source": [
        "resumo"
      ],
      "execution_count": 83,
      "outputs": [
        {
          "output_type": "execute_result",
          "data": {
            "text/html": [
              "<div>\n",
              "<style scoped>\n",
              "    .dataframe tbody tr th:only-of-type {\n",
              "        vertical-align: middle;\n",
              "    }\n",
              "\n",
              "    .dataframe tbody tr th {\n",
              "        vertical-align: top;\n",
              "    }\n",
              "\n",
              "    .dataframe thead th {\n",
              "        text-align: right;\n",
              "    }\n",
              "</style>\n",
              "<table border=\"1\" class=\"dataframe\">\n",
              "  <thead>\n",
              "    <tr style=\"text-align: right;\">\n",
              "      <th></th>\n",
              "      <th>accuracy</th>\n",
              "      <th>precision</th>\n",
              "      <th>recall</th>\n",
              "      <th>f1</th>\n",
              "    </tr>\n",
              "  </thead>\n",
              "  <tbody>\n",
              "    <tr>\n",
              "      <th>LogisticRegression</th>\n",
              "      <td>82.61</td>\n",
              "      <td>82.35</td>\n",
              "      <td>73.68</td>\n",
              "      <td>81.75</td>\n",
              "    </tr>\n",
              "    <tr>\n",
              "      <th>RandomForest</th>\n",
              "      <td>86.96</td>\n",
              "      <td>84.21</td>\n",
              "      <td>84.21</td>\n",
              "      <td>86.55</td>\n",
              "    </tr>\n",
              "    <tr>\n",
              "      <th>SVM</th>\n",
              "      <td>86.96</td>\n",
              "      <td>84.21</td>\n",
              "      <td>84.21</td>\n",
              "      <td>86.55</td>\n",
              "    </tr>\n",
              "  </tbody>\n",
              "</table>\n",
              "</div>"
            ],
            "text/plain": [
              "                    accuracy  precision  recall     f1\n",
              "LogisticRegression     82.61      82.35   73.68  81.75\n",
              "RandomForest           86.96      84.21   84.21  86.55\n",
              "SVM                    86.96      84.21   84.21  86.55"
            ]
          },
          "metadata": {},
          "execution_count": 83
        }
      ]
    },
    {
      "cell_type": "code",
      "metadata": {
        "id": "zp0Jy9TivpID"
      },
      "source": [
        ""
      ],
      "execution_count": null,
      "outputs": []
    }
  ]
}